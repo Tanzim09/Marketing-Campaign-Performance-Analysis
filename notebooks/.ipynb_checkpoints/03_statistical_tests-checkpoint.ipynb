{
 "cells": [
  {
   "cell_type": "code",
   "execution_count": 2,
   "id": "9a034173-e7f7-4937-9de6-1bda1b35336f",
   "metadata": {},
   "outputs": [],
   "source": [
    "import pandas as pd\n",
    "import numpy as np   \n",
    "import matplotlib.pyplot as plt  \n",
    "import seaborn as sns \n",
    "import zipfile  # For zipped files\n",
    "import os  # To work with file paths and directories"
   ]
  },
  {
   "cell_type": "code",
   "execution_count": 3,
   "id": "b2c662f2-7739-43ae-8416-1457d07307cb",
   "metadata": {},
   "outputs": [],
   "source": [
    "# we can see all columns without them getting cut off.\n",
    "pd.set_option('display.max_columns', None)"
   ]
  },
  {
   "cell_type": "code",
   "execution_count": 4,
   "id": "a2c1002d-4717-4e40-b518-ff8813f08670",
   "metadata": {},
   "outputs": [],
   "source": [
    "# location of the ZIP file\n",
    "file_path = r\"C:\\Users\\tanzi\\Personal Projects\\Marketing-Campaign-Performance-Analysis\\Marketing-Campaign-Performance-Analysis\\data\\cleaned_campaign_data.zip\"\n",
    "\n",
    "# Opening and laoding into dataframe\n",
    "with zipfile.ZipFile(file_path, 'r') as z:\n",
    "    with z.open('cleaned_campaign_data.csv') as f:\n",
    "        df = pd.read_csv(f)"
   ]
  },
  {
   "cell_type": "code",
   "execution_count": 5,
   "id": "dda22faa-ef55-41cd-8987-02f6af99edf5",
   "metadata": {},
   "outputs": [
    {
     "data": {
      "text/html": [
       "<div>\n",
       "<style scoped>\n",
       "    .dataframe tbody tr th:only-of-type {\n",
       "        vertical-align: middle;\n",
       "    }\n",
       "\n",
       "    .dataframe tbody tr th {\n",
       "        vertical-align: top;\n",
       "    }\n",
       "\n",
       "    .dataframe thead th {\n",
       "        text-align: right;\n",
       "    }\n",
       "</style>\n",
       "<table border=\"1\" class=\"dataframe\">\n",
       "  <thead>\n",
       "    <tr style=\"text-align: right;\">\n",
       "      <th></th>\n",
       "      <th>Campaign_ID</th>\n",
       "      <th>Company</th>\n",
       "      <th>Campaign_Type</th>\n",
       "      <th>Target_Audience</th>\n",
       "      <th>Channel_Used</th>\n",
       "      <th>Conversion_Rate</th>\n",
       "      <th>Acquisition_Cost</th>\n",
       "      <th>ROI</th>\n",
       "      <th>Location</th>\n",
       "      <th>Language</th>\n",
       "      <th>Clicks</th>\n",
       "      <th>Impressions</th>\n",
       "      <th>Engagement_Score</th>\n",
       "      <th>Customer_Segment</th>\n",
       "      <th>Date</th>\n",
       "      <th>Duration_Days</th>\n",
       "      <th>Engagement_Ratio</th>\n",
       "      <th>CPC</th>\n",
       "      <th>CTR</th>\n",
       "    </tr>\n",
       "  </thead>\n",
       "  <tbody>\n",
       "    <tr>\n",
       "      <th>0</th>\n",
       "      <td>1</td>\n",
       "      <td>Innovate Industries</td>\n",
       "      <td>Email</td>\n",
       "      <td>Men 18-24</td>\n",
       "      <td>Google Ads</td>\n",
       "      <td>0.04</td>\n",
       "      <td>16174.0</td>\n",
       "      <td>6.29</td>\n",
       "      <td>Chicago</td>\n",
       "      <td>Spanish</td>\n",
       "      <td>506</td>\n",
       "      <td>1922</td>\n",
       "      <td>6</td>\n",
       "      <td>Health &amp; Wellness</td>\n",
       "      <td>2021-01-01</td>\n",
       "      <td>30</td>\n",
       "      <td>0.263267</td>\n",
       "      <td>31.964427</td>\n",
       "      <td>0.263267</td>\n",
       "    </tr>\n",
       "    <tr>\n",
       "      <th>1</th>\n",
       "      <td>2</td>\n",
       "      <td>NexGen Systems</td>\n",
       "      <td>Email</td>\n",
       "      <td>Women 35-44</td>\n",
       "      <td>Google Ads</td>\n",
       "      <td>0.12</td>\n",
       "      <td>11566.0</td>\n",
       "      <td>5.61</td>\n",
       "      <td>New York</td>\n",
       "      <td>German</td>\n",
       "      <td>116</td>\n",
       "      <td>7523</td>\n",
       "      <td>7</td>\n",
       "      <td>Fashionistas</td>\n",
       "      <td>2021-01-02</td>\n",
       "      <td>60</td>\n",
       "      <td>0.015419</td>\n",
       "      <td>99.706897</td>\n",
       "      <td>0.015419</td>\n",
       "    </tr>\n",
       "    <tr>\n",
       "      <th>2</th>\n",
       "      <td>3</td>\n",
       "      <td>Alpha Innovations</td>\n",
       "      <td>Influencer</td>\n",
       "      <td>Men 25-34</td>\n",
       "      <td>YouTube</td>\n",
       "      <td>0.07</td>\n",
       "      <td>10200.0</td>\n",
       "      <td>7.18</td>\n",
       "      <td>Los Angeles</td>\n",
       "      <td>French</td>\n",
       "      <td>584</td>\n",
       "      <td>7698</td>\n",
       "      <td>1</td>\n",
       "      <td>Outdoor Adventurers</td>\n",
       "      <td>2021-01-03</td>\n",
       "      <td>30</td>\n",
       "      <td>0.075864</td>\n",
       "      <td>17.465753</td>\n",
       "      <td>0.075864</td>\n",
       "    </tr>\n",
       "    <tr>\n",
       "      <th>3</th>\n",
       "      <td>4</td>\n",
       "      <td>DataTech Solutions</td>\n",
       "      <td>Display</td>\n",
       "      <td>All Ages</td>\n",
       "      <td>YouTube</td>\n",
       "      <td>0.11</td>\n",
       "      <td>12724.0</td>\n",
       "      <td>5.55</td>\n",
       "      <td>Miami</td>\n",
       "      <td>Mandarin</td>\n",
       "      <td>217</td>\n",
       "      <td>1820</td>\n",
       "      <td>7</td>\n",
       "      <td>Health &amp; Wellness</td>\n",
       "      <td>2021-01-04</td>\n",
       "      <td>60</td>\n",
       "      <td>0.119231</td>\n",
       "      <td>58.635945</td>\n",
       "      <td>0.119231</td>\n",
       "    </tr>\n",
       "    <tr>\n",
       "      <th>4</th>\n",
       "      <td>5</td>\n",
       "      <td>NexGen Systems</td>\n",
       "      <td>Email</td>\n",
       "      <td>Men 25-34</td>\n",
       "      <td>YouTube</td>\n",
       "      <td>0.05</td>\n",
       "      <td>16452.0</td>\n",
       "      <td>6.50</td>\n",
       "      <td>Los Angeles</td>\n",
       "      <td>Mandarin</td>\n",
       "      <td>379</td>\n",
       "      <td>4201</td>\n",
       "      <td>3</td>\n",
       "      <td>Health &amp; Wellness</td>\n",
       "      <td>2021-01-05</td>\n",
       "      <td>15</td>\n",
       "      <td>0.090217</td>\n",
       "      <td>43.408971</td>\n",
       "      <td>0.090217</td>\n",
       "    </tr>\n",
       "  </tbody>\n",
       "</table>\n",
       "</div>"
      ],
      "text/plain": [
       "   Campaign_ID              Company Campaign_Type Target_Audience  \\\n",
       "0            1  Innovate Industries         Email       Men 18-24   \n",
       "1            2       NexGen Systems         Email     Women 35-44   \n",
       "2            3    Alpha Innovations    Influencer       Men 25-34   \n",
       "3            4   DataTech Solutions       Display        All Ages   \n",
       "4            5       NexGen Systems         Email       Men 25-34   \n",
       "\n",
       "  Channel_Used  Conversion_Rate  Acquisition_Cost   ROI     Location  \\\n",
       "0   Google Ads             0.04           16174.0  6.29      Chicago   \n",
       "1   Google Ads             0.12           11566.0  5.61     New York   \n",
       "2      YouTube             0.07           10200.0  7.18  Los Angeles   \n",
       "3      YouTube             0.11           12724.0  5.55        Miami   \n",
       "4      YouTube             0.05           16452.0  6.50  Los Angeles   \n",
       "\n",
       "   Language  Clicks  Impressions  Engagement_Score     Customer_Segment  \\\n",
       "0   Spanish     506         1922                 6    Health & Wellness   \n",
       "1    German     116         7523                 7         Fashionistas   \n",
       "2    French     584         7698                 1  Outdoor Adventurers   \n",
       "3  Mandarin     217         1820                 7    Health & Wellness   \n",
       "4  Mandarin     379         4201                 3    Health & Wellness   \n",
       "\n",
       "         Date  Duration_Days  Engagement_Ratio        CPC       CTR  \n",
       "0  2021-01-01             30          0.263267  31.964427  0.263267  \n",
       "1  2021-01-02             60          0.015419  99.706897  0.015419  \n",
       "2  2021-01-03             30          0.075864  17.465753  0.075864  \n",
       "3  2021-01-04             60          0.119231  58.635945  0.119231  \n",
       "4  2021-01-05             15          0.090217  43.408971  0.090217  "
      ]
     },
     "execution_count": 5,
     "metadata": {},
     "output_type": "execute_result"
    }
   ],
   "source": [
    "df.head()"
   ]
  },
  {
   "cell_type": "code",
   "execution_count": 6,
   "id": "e03e324a-46cf-47ac-bc2c-a8c4fcf4c651",
   "metadata": {},
   "outputs": [
    {
     "name": "stdout",
     "output_type": "stream",
     "text": [
      "<class 'pandas.core.frame.DataFrame'>\n",
      "RangeIndex: 200000 entries, 0 to 199999\n",
      "Data columns (total 19 columns):\n",
      " #   Column            Non-Null Count   Dtype  \n",
      "---  ------            --------------   -----  \n",
      " 0   Campaign_ID       200000 non-null  int64  \n",
      " 1   Company           200000 non-null  object \n",
      " 2   Campaign_Type     200000 non-null  object \n",
      " 3   Target_Audience   200000 non-null  object \n",
      " 4   Channel_Used      200000 non-null  object \n",
      " 5   Conversion_Rate   200000 non-null  float64\n",
      " 6   Acquisition_Cost  200000 non-null  float64\n",
      " 7   ROI               200000 non-null  float64\n",
      " 8   Location          200000 non-null  object \n",
      " 9   Language          200000 non-null  object \n",
      " 10  Clicks            200000 non-null  int64  \n",
      " 11  Impressions       200000 non-null  int64  \n",
      " 12  Engagement_Score  200000 non-null  int64  \n",
      " 13  Customer_Segment  200000 non-null  object \n",
      " 14  Date              200000 non-null  object \n",
      " 15  Duration_Days     200000 non-null  int64  \n",
      " 16  Engagement_Ratio  200000 non-null  float64\n",
      " 17  CPC               200000 non-null  float64\n",
      " 18  CTR               200000 non-null  float64\n",
      "dtypes: float64(6), int64(5), object(8)\n",
      "memory usage: 29.0+ MB\n"
     ]
    }
   ],
   "source": [
    "df.info()"
   ]
  },
  {
   "cell_type": "code",
   "execution_count": 7,
   "id": "e382781a-07f4-48a1-930c-f0687f775e49",
   "metadata": {},
   "outputs": [
    {
     "name": "stderr",
     "output_type": "stream",
     "text": [
      "C:\\Users\\tanzi\\AppData\\Local\\Temp\\ipykernel_29188\\148308052.py:2: FutureWarning: \n",
      "\n",
      "Passing `palette` without assigning `hue` is deprecated and will be removed in v0.14.0. Assign the `x` variable to `hue` and set `legend=False` for the same effect.\n",
      "\n",
      "  sns.boxplot(data=df, x=\"Channel_Used\", y=\"ROI\", palette=\"viridis\")\n"
     ]
    },
    {
     "data": {
      "image/png": "[encoded data removed]",
      "text/plain": [
       "<Figure size 1000x500 with 1 Axes>"
      ]
     },
     "metadata": {},
     "output_type": "display_data"
    }
   ],
   "source": [
    "# Plotting how different channels are performing with respect to ROI.\n",
    "plt.figure(figsize=(10, 5))\n",
    "sns.boxplot(data=df, x=\"Channel_Used\", y=\"ROI\", palette=\"viridis\")\n",
    "plt.xticks(rotation=45)\n",
    "plt.title(\"Distribution of ROI Across Marketing Channels\")\n",
    "plt.show()"
   ]
  },
  {
   "cell_type": "code",
   "execution_count": 8,
   "id": "c08f7f71-5ec2-462c-9f98-d1d455d5d525",
   "metadata": {},
   "outputs": [],
   "source": [
    "# The medians (black horizontal lines in each box) are almost at the same level."
   ]
  },
  {
   "cell_type": "code",
   "execution_count": 9,
   "id": "fb097605-02ce-494d-82f5-c38b6068411d",
   "metadata": {},
   "outputs": [
    {
     "name": "stdout",
     "output_type": "stream",
     "text": [
      "ANOVA F-statistic: 1.5482, p-value: 0.1711\n",
      "❌ No significant difference in ROI across channels.\n"
     ]
    }
   ],
   "source": [
    "# Preparing data for ANOVA to see if there's a significant difference in ROI across marketing channels.\n",
    "anova_groups = [group[\"ROI\"].dropna().values for name, group in df.groupby(\"Channel_Used\")]"
   ]
  },
  {
   "cell_type": "code",
   "execution_count": null,
   "id": "0e3e63cb-56eb-4483-96d7-b5e8720a4ad7",
   "metadata": {},
   "outputs": [],
   "source": [
    "# Runing ANOVA test\n",
    "anova_result = stats.f_oneway(*anova_groups)"
   ]
  },
  {
   "cell_type": "code",
   "execution_count": null,
   "id": "677cafd4-7e43-41c2-8a11-dfa3bc18b426",
   "metadata": {},
   "outputs": [],
   "source": [
    "# Printing the results of the test\n",
    "print(f\"ANOVA F-statistic: {anova_result.statistic:.4f}, p-value: {anova_result.pvalue:.4f}\")"
   ]
  },
  {
   "cell_type": "code",
   "execution_count": null,
   "id": "dab4eee0-18ed-4299-8e5a-3cdebbdc9db7",
   "metadata": {},
   "outputs": [],
   "source": [
    "# Interpretation based on p-value\n",
    "if anova_result.pvalue < 0.05:\n",
    "    print(\"Significant difference in ROI across channels!\")\n",
    "else:\n",
    "    print(\"No significant difference in ROI across channels.\")"
   ]
  },
  {
   "cell_type": "code",
   "execution_count": 10,
   "id": "45e6ae2c-3738-4dfc-ac8f-b9528937baba",
   "metadata": {},
   "outputs": [
    {
     "name": "stdout",
     "output_type": "stream",
     "text": [
      "High_Conversion       High    Low\n",
      "Customer_Segment                 \n",
      "Fashionistas         18392  21350\n",
      "Foodies              18819  21389\n",
      "Health & Wellness    18498  21390\n",
      "Outdoor Adventurers  18649  21362\n",
      "Tech Enthusiasts     18812  21339\n"
     ]
    }
   ],
   "source": [
    "# calculating the median of Conversion Rate\n",
    "median_conversion = df['Conversion_Rate'].median()"
   ]
  },
  {
   "cell_type": "code",
   "execution_count": null,
   "id": "f5ce1ff6-77c5-4747-97f2-1a2a0232235b",
   "metadata": {},
   "outputs": [],
   "source": [
    "# Assign 'High' or 'Low' based on whether the conversion rate is above or below the median\n",
    "df['High_Conversion'] = np.where(df['Conversion_Rate'] > median_conversion, \"High\", \"Low\")"
   ]
  },
  {
   "cell_type": "code",
   "execution_count": null,
   "id": "56521fee-2487-4f84-91ea-e28459989260",
   "metadata": {},
   "outputs": [],
   "source": [
    "# Creating the contingency table for Customer Segment vs. High/Low Conversion\n",
    "contingency_table = pd.crosstab(df[\"Customer_Segment\"], df[\"High_Conversion\"])"
   ]
  },
  {
   "cell_type": "code",
   "execution_count": null,
   "id": "ee216506-108a-4175-8a5e-42878687dc58",
   "metadata": {},
   "outputs": [],
   "source": [
    "# Displaying table\n",
    "print(contingency_table)"
   ]
  },
  {
   "cell_type": "code",
   "execution_count": 11,
   "id": "b6373c57-33b8-4f13-b170-76ffab139da6",
   "metadata": {},
   "outputs": [
    {
     "name": "stdout",
     "output_type": "stream",
     "text": [
      "Chi-Square Test Statistic: 4.1540, p-value: 0.3856\n",
      "❌ No significant relationship between customer segment and conversion.\n"
     ]
    }
   ],
   "source": [
    "# Running Chi-Square test run to check if there's a relationship between customer segment and conversion rates\n",
    "chi2, p, dof, expected = stats.chi2_contingency(contingency_table)"
   ]
  },
  {
   "cell_type": "code",
   "execution_count": null,
   "id": "3b0f3ef9-e15b-4b0d-b02a-bd8fd2304e7a",
   "metadata": {},
   "outputs": [],
   "source": [
    "# Printing result\n",
    "print(f\"Chi-Square Test Statistic: {chi2:.4f}, p-value: {p:.4f}\")"
   ]
  },
  {
   "cell_type": "code",
   "execution_count": null,
   "id": "e1928e96-7e3c-4523-9060-d4bb9a2f8e99",
   "metadata": {},
   "outputs": [],
   "source": [
    "# Interpretation\n",
    "if p < 0.05:\n",
    "    print(\"✅ Customer segments significantly impact conversion rates!\")\n",
    "else:\n",
    "    print(\"❌ No significant relationship between customer segment and conversion.\")"
   ]
  },
  {
   "cell_type": "code",
   "execution_count": 12,
   "id": "aa87b44e-bf9d-480a-9099-06086f874e5e",
   "metadata": {},
   "outputs": [
    {
     "name": "stdout",
     "output_type": "stream",
     "text": [
      "T-Test Statistic: nan, p-value: nan\n",
      "❌ No significant difference in engagement scores.\n"
     ]
    }
   ],
   "source": [
    "# performing an independent T-test to compare engagement scores between 'Email' and 'Social Media' channels\n",
    "email_group = df[df[\"Channel_Used\"] == \"Email\"][\"Engagement_Score\"].dropna()\n",
    "social_media_group = df[df[\"Channel_Used\"] == \"Social Media\"][\"Engagement_Score\"].dropna()\n",
    "\n",
    "# Run independent T-test\n",
    "t_stat, p_value = stats.ttest_ind(email_group, social_media_group, equal_var=False)"
   ]
  },
  {
   "cell_type": "code",
   "execution_count": null,
   "id": "eee518a8-7654-46d6-90d3-a421859d1c97",
   "metadata": {},
   "outputs": [],
   "source": [
    "# Printing results\n",
    "print(f\"T-Test Statistic: {t_stat:.4f}, p-value: {p_value:.4f}\")"
   ]
  },
  {
   "cell_type": "code",
   "execution_count": null,
   "id": "e492b1ca-9249-4fe5-8ede-5a66599fd155",
   "metadata": {},
   "outputs": [],
   "source": [
    "# Interpretation\n",
    "if p_value < 0.05:\n",
    "    print(\"✅ Significant difference in engagement scores between Email & Social Media!\")\n",
    "else:\n",
    "    print(\"❌ No significant difference in engagement scores.\")"
   ]
  },
  {
   "cell_type": "code",
   "execution_count": 13,
   "id": "0b860d0c-11ee-43cd-be28-872a7eaa2b34",
   "metadata": {},
   "outputs": [
    {
     "name": "stdout",
     "output_type": "stream",
     "text": [
      "Cohen's D Effect Size: nan\n",
      "🔴 Large effect size\n"
     ]
    }
   ],
   "source": [
    "# Function to calculate Cohen's d\n",
    "def cohens_d(group1, group2):\n",
    "    return (np.mean(group1) - np.mean(group2)) / np.sqrt((np.std(group1) ** 2 + np.std(group2) ** 2) / 2)"
   ]
  },
  {
   "cell_type": "code",
   "execution_count": null,
   "id": "626332d9-c4a7-46d6-9c86-cba0d6f6eac5",
   "metadata": {},
   "outputs": [],
   "source": [
    "# Compute Cohen’s D for effect size\n",
    "effect_size = cohens_d(email_group, social_media_group)\n",
    "print(f\"Cohen's D Effect Size: {effect_size:.4f}\")"
   ]
  },
  {
   "cell_type": "code",
   "execution_count": null,
   "id": "7e0e88b7-2641-4501-92b1-540e59cb9017",
   "metadata": {},
   "outputs": [],
   "source": [
    "# Interpretation\n",
    "if abs(effect_size) < 0.2:\n",
    "    print(\"🟡 Small effect size\")\n",
    "elif abs(effect_size) < 0.5:\n",
    "    print(\"🟠 Medium effect size\")\n",
    "else:\n",
    "    print(\"🔴 Large effect size\")"
   ]
  },
  {
   "cell_type": "code",
   "execution_count": 14,
   "id": "89d37289-d200-4352-afc1-882d2a2138f8",
   "metadata": {},
   "outputs": [
    {
     "name": "stdout",
     "output_type": "stream",
     "text": [
      "✅ Statistical analysis completed & saved!\n"
     ]
    }
   ],
   "source": [
    "# Save ANOVA, Chi-Square, and T-test results\n",
    "stats_results = {\n",
    "    \"ANOVA ROI p-value\": anova_result.pvalue,\n",
    "    \"Chi-Square Conversion p-value\": p,\n",
    "    \"T-Test Engagement p-value\": p_value,\n",
    "    \"Effect Size (Cohen's d)\": effect_size\n",
    "} "
   ]
  },
  {
   "cell_type": "code",
   "execution_count": null,
   "id": "829e69f9-daff-408a-ade9-1e8f26d8a588",
   "metadata": {},
   "outputs": [],
   "source": [
    "# Convert to DataFrame and save\n",
    "stats_df = pd.DataFrame([stats_results])\n",
    "stats_df.to_csv(\"../data/statistical_results.csv\", index=False)"
   ]
  }
 ],
 "metadata": {
  "kernelspec": {
   "display_name": "Python [conda env:base] *",
   "language": "python",
   "name": "conda-base-py"
  },
  "language_info": {
   "codemirror_mode": {
    "name": "ipython",
    "version": 3
   },
   "file_extension": ".py",
   "mimetype": "text/x-python",
   "name": "python",
   "nbconvert_exporter": "python",
   "pygments_lexer": "ipython3",
   "version": "3.12.7"
  }
 },
 "nbformat": 4,
 "nbformat_minor": 5
}
